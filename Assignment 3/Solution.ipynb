{
 "cells": [
  {
   "cell_type": "markdown",
   "metadata": {},
   "source": [
    "## Assignment 3: Adversarial attacks and defenses\n",
    "**Course:** Security and Interpretability of Machine Learning algorithms <br>\n",
    "**Student:** Danis Alukaev <br>\n",
    "**Email:** d.alukaev@innopolis.university <br>\n",
    "**Group:** B19-DS-01 "
   ]
  },
  {
   "cell_type": "markdown",
   "metadata": {},
   "source": [
    "### Abstract\n",
    "\n",
    "This notebook contains implementation of Kernel Density Estimation defense and its evaluation on zero-knowledge, perfect-knowledge, and limited-knowledge attacks. For all experiments I have used methodolgy described in [\"Adversarial Examples Are Not Easily Detected: Bypassing Ten Detection Methods\"](https://arxiv.org/abs/1705.07263) by Carlini N. and Wagner D. Although I managed to replicate the claimed results, the defense has shown a better performance on local set-up (perhaps because of stochasticity of experiments and different hyper-parameters)."
   ]
  },
  {
   "cell_type": "markdown",
   "id": "99da6d63",
   "metadata": {},
   "source": [
    "### 0. Prerequisites."
   ]
  },
  {
   "cell_type": "code",
   "execution_count": 1,
   "id": "50349ce5",
   "metadata": {},
   "outputs": [],
   "source": [
    "import torch \n",
    "import torchvision\n",
    "import os\n",
    "import pickle\n",
    "import matplotlib\n",
    "import albumentations as A\n",
    "import random\n",
    "import numpy as np\n",
    "import random\n",
    "import gc"
   ]
  },
  {
   "cell_type": "code",
   "execution_count": 2,
   "id": "201a7518",
   "metadata": {},
   "outputs": [],
   "source": [
    "from albumentations import pytorch\n",
    "from torchvision import transforms\n",
    "from torchvision.datasets import CIFAR10\n",
    "from torch.utils.data import Dataset, DataLoader\n",
    "from matplotlib import pyplot as plt\n",
    "import torch.nn as nn\n",
    "import torch.nn.functional as F\n",
    "import torch.optim as optim\n",
    "from sklearn.metrics import balanced_accuracy_score\n",
    "from abc import ABC, abstractmethod\n",
    "from sklearn.metrics import ConfusionMatrixDisplay\n",
    "from time import time\n",
    "from tqdm import tqdm\n",
    "from math import log\n",
    "from scipy.stats import skew, ttest_ind"
   ]
  },
  {
   "cell_type": "code",
   "execution_count": 3,
   "id": "8542be5f",
   "metadata": {},
   "outputs": [],
   "source": [
    "configs = {\n",
    "    \"num_workers\": 4,\n",
    "    \"device\": \"cuda:0\",\n",
    "    \"batch_size\": 128,\n",
    "    \"epochs\": 50\n",
    "}"
   ]
  },
  {
   "cell_type": "code",
   "execution_count": 4,
   "id": "23bfd8e2",
   "metadata": {},
   "outputs": [],
   "source": [
    "import warnings\n",
    "warnings.filterwarnings(\"ignore\")"
   ]
  },
  {
   "cell_type": "markdown",
   "id": "1dc1791e",
   "metadata": {},
   "source": [
    "### 1. Loading data "
   ]
  },
  {
   "cell_type": "markdown",
   "id": "a2564622",
   "metadata": {},
   "source": [
    "The CIFAR-10 dataset was downloaded from [official publisher](https://www.cs.toronto.edu/~kriz/cifar.html) and mounted to `data/cifar/` directory. Further, the loading of data will be performed through Dataset abstraction. Native implementation does not support transforms via Albumentations package, so I create a custom class for this purpose."
   ]
  },
  {
   "cell_type": "code",
   "execution_count": 5,
   "id": "074317fc",
   "metadata": {},
   "outputs": [],
   "source": [
    "class AlbumentationsCIFAR10(CIFAR10):\n",
    "    \"\"\"\n",
    "    Custom CIFAR10 dataset applying transformations according to\n",
    "    Albumentations standard. Inherited from native PyTorch dataset\n",
    "    implementing the retrival logic.\n",
    "    \"\"\"\n",
    "    def __init__(self, root, train=True, download=True, transform=None):\n",
    "        super().__init__(root=root, train=train, download=download, transform=transform)\n",
    "    \n",
    "    def __getitem__(self, idx):\n",
    "        image, label = self.data[idx], self.targets[idx]\n",
    "        if self.transform is None:\n",
    "            return image, label\n",
    "        try:\n",
    "            transformed = self.transform(image=image)['image']\n",
    "        except Exception as e:\n",
    "            print(e)\n",
    "            transformed = self.transform(image)\n",
    "        return transformed, label\n",
    "            "
   ]
  },
  {
   "cell_type": "markdown",
   "id": "cf8da0f8",
   "metadata": {},
   "source": [
    "There will be two types of transforms: train and test. Both include the normalization and converting to Tensors. Still, the former one also applies random augmentations to increase the robustness of the model. For instance, there are horizontal flip, scale rotations, elastic transforms. By construction, augmentations will be applied on each epoch, so that the model will be trained on previously unseen samples."
   ]
  },
  {
   "cell_type": "code",
   "execution_count": 6,
   "id": "c4c6f4c3",
   "metadata": {},
   "outputs": [],
   "source": [
    "train_augmentations = A.Compose([\n",
    "    # A.augmentations.transforms.Normalize(),\n",
    "    A.HorizontalFlip(p=0.5),\n",
    "    A.augmentations.geometric.transforms.ShiftScaleRotate(p=0.5),\n",
    "    A.augmentations.geometric.transforms.ElasticTransform(p=0.1),\n",
    "    pytorch.transforms.ToTensorV2(),\n",
    "])\n",
    "\n",
    "test_augmentations = A.Compose([\n",
    "    # A.augmentations.transforms.Normalize(),\n",
    "    pytorch.transforms.ToTensorV2(),\n",
    "])"
   ]
  },
  {
   "cell_type": "markdown",
   "id": "296b9cee",
   "metadata": {},
   "source": [
    "Further in the notebook, there will be used validation, train, and test datasets. The validation set will be used to check the overall performance of the trained model. The train and test sets will be used for training the model."
   ]
  },
  {
   "cell_type": "code",
   "execution_count": 7,
   "id": "b36b9488",
   "metadata": {},
   "outputs": [
    {
     "name": "stdout",
     "output_type": "stream",
     "text": [
      "Files already downloaded and verified\n"
     ]
    }
   ],
   "source": [
    "trainset = AlbumentationsCIFAR10(root='data', train=True, download=True, transform=train_augmentations)\n",
    "trainloader = DataLoader(trainset, batch_size=configs['batch_size'], shuffle=True, num_workers=configs['num_workers'])"
   ]
  },
  {
   "cell_type": "code",
   "execution_count": 8,
   "id": "d070366a",
   "metadata": {},
   "outputs": [
    {
     "name": "stdout",
     "output_type": "stream",
     "text": [
      "Files already downloaded and verified\n"
     ]
    }
   ],
   "source": [
    "split_ration = 0.5\n",
    "\n",
    "controlset = AlbumentationsCIFAR10(root='data', train=False, download=True, transform=test_augmentations)\n",
    "test_size = int(split_ration * len(controlset))\n",
    "validation_size = len(controlset) - test_size\n",
    "testset, validationset = torch.utils.data.random_split(controlset, [test_size, validation_size], generator=torch.Generator().manual_seed(42))\n",
    "testloader = DataLoader(testset, batch_size=configs['batch_size'], shuffle=False, num_workers=configs['num_workers'])\n",
    "validationloader = DataLoader(validationset, batch_size=configs['batch_size'], shuffle=False, num_workers=configs['num_workers'])"
   ]
  },
  {
   "cell_type": "code",
   "execution_count": 9,
   "id": "6743ffe7",
   "metadata": {},
   "outputs": [
    {
     "name": "stdout",
     "output_type": "stream",
     "text": [
      "Datasets' sizes: train 50000, test: 5000, validation: 5000\n"
     ]
    }
   ],
   "source": [
    "print(f\"Datasets' sizes: train {len(trainset)}, test: {len(testset)}, validation: {len(validationset)}\")"
   ]
  },
  {
   "cell_type": "markdown",
   "id": "52e6e698",
   "metadata": {},
   "source": [
    "Let's examine five random samples from training population. The images themselves are a litle bit messy, but still the depicted entity can be distinguished. Note that these are the images after transformations (different from the original)."
   ]
  },
  {
   "cell_type": "code",
   "execution_count": 10,
   "id": "fe946d42",
   "metadata": {},
   "outputs": [
    {
     "data": {
      "image/png": "[encoded data removed]",
      "text/plain": [
       "<Figure size 2160x360 with 5 Axes>"
      ]
     },
     "metadata": {
      "needs_background": "light"
     },
     "output_type": "display_data"
    }
   ],
   "source": [
    "labels_text = ['Airplane', 'Car', 'Bird', 'Cat', 'Deer', 'Dog', 'Frog', 'Horse', 'Ship', 'Truck']\n",
    "classes = {i: labels_text[i] for i in range(len(labels_text))}\n",
    "\n",
    "fig, axes = plt.subplots(1, 5)\n",
    "fig.set_size_inches(30, 5)\n",
    "fig.suptitle(\"Random 5 samples from train dataset\")\n",
    "for ax in axes:\n",
    "    idx = random.randint(0, len(trainset)-1)\n",
    "    image, label = trainset[idx]\n",
    "    image = image / 255.0\n",
    "    ax.set_title(f\"{classes[label]}\")\n",
    "    image = np.clip(image.permute(1, 2, 0), 0, 1)\n",
    "    ax.imshow(image)\n",
    "plt.show()"
   ]
  },
  {
   "cell_type": "markdown",
   "id": "8fa1488d",
   "metadata": {},
   "source": [
    "### 2. Inference model"
   ]
  },
  {
   "cell_type": "markdown",
   "id": "987e0f8f",
   "metadata": {},
   "source": [
    "Multi-label classification of objects in images is known problem. Various state-of-art model were developed. For instance, the Residual Network (ResNet) significantly improved the performance of deep neural networks. The overall idea and architecture are presented in [\"Deep Residual Learning for Image Recognition\"](https://arxiv.org/pdf/1512.03385.pdf) by Kaiming H. et al. For this assignment I will implement the variation of ResNet with 34 layers."
   ]
  },
  {
   "cell_type": "code",
   "execution_count": 11,
   "id": "03a0a1fd",
   "metadata": {},
   "outputs": [],
   "source": [
    "class ResidualBlock(nn.Module):\n",
    "    \"\"\"\n",
    "    Building block for residual network. Implements an idea of skip connections \n",
    "    (a.k.a. shortcuts). Default configuration involves triple-layre skip. \n",
    "    \"\"\"\n",
    "    \n",
    "    expansion = 1\n",
    "    \n",
    "    def __init__(self, in_channels, out_channels, stride=1):\n",
    "        super(ResidualBlock, self).__init__()\n",
    "        self.in_channels = in_channels\n",
    "        self.out_channels = out_channels \n",
    "        self.stride = stride\n",
    "        \n",
    "        self.conv1 = nn.Conv2d(in_channels, out_channels, kernel_size=3, stride=stride, padding=1, bias=False)\n",
    "        self.conv2 = nn.Conv2d(out_channels, out_channels, kernel_size=3, stride=1, padding=1, bias=False)\n",
    "        self.bn1 = nn.BatchNorm2d(out_channels)\n",
    "        self.bn2 = nn.BatchNorm2d(out_channels)\n",
    "        self.shortcut = self.__make_shortcut()\n",
    "        \n",
    "    def __make_shortcut(self):\n",
    "        if self.stride == 1 and self.expansion * self.out_channels == self.in_channels:\n",
    "            return nn.Sequential()\n",
    "        shortcut = nn.Sequential(\n",
    "            nn.Conv2d(self.in_channels, self.expansion * self.out_channels, kernel_size=1, stride=self.stride, bias=False),\n",
    "            nn.BatchNorm2d(self.expansion * self.out_channels) \n",
    "        )\n",
    "        return shortcut\n",
    "    \n",
    "    def forward(self, x):\n",
    "        _x = x.clone() \n",
    "        x = self.conv1(x)\n",
    "        x = self.bn1(x)\n",
    "        x = F.relu(x)\n",
    "        x = self.conv2(x)\n",
    "        x = self.bn2(x)\n",
    "        x += self.shortcut(_x)\n",
    "        x = F.relu(x)\n",
    "        return x"
   ]
  },
  {
   "cell_type": "code",
   "execution_count": 12,
   "id": "a28d9eab",
   "metadata": {},
   "outputs": [],
   "source": [
    "class ResNet(nn.Module):\n",
    "    \"\"\"\n",
    "    Class implementing the Residual Network by Kaiming H. et al.\n",
    "    Comprised of blocks with skip connections to preserve sensitive information \n",
    "    over the layers. By default, performs multi-label classification for 10 classes.\n",
    "    \"\"\"\n",
    "    \n",
    "    def __init__(self, in_channels, out_channels, blocks, num_classes=10):\n",
    "        super(ResNet, self).__init__()\n",
    "        self.in_channels = in_channels\n",
    "        self.out_channels = out_channels\n",
    "        self.blocks = blocks\n",
    "        self.num_classes = num_classes\n",
    "        \n",
    "        self.conv1 = nn.Conv2d(in_channels, out_channels, kernel_size=3, stride=1, padding=1, bias=False)\n",
    "        self.bn1 = nn.BatchNorm2d(out_channels)\n",
    "        \n",
    "        self.layers = []\n",
    "        channels = out_channels\n",
    "        for idx, num_blocks in enumerate(blocks):\n",
    "            stride = 1 if idx == 0 else 2\n",
    "            layer = self.__make_layer(ResidualBlock, channels, num_blocks, stride)\n",
    "            self.layers.append(layer)\n",
    "            channels *= 2  \n",
    "        self.layers = nn.ModuleList(self.layers)\n",
    "        \n",
    "        self.fc1 = nn.Linear(channels // 2 * ResidualBlock.expansion, num_classes) \n",
    "        self.latent_representation = None\n",
    "\n",
    "    def __make_layer(self, Block, channels, num_blocks, first_stride):\n",
    "        blocks = []\n",
    "        for idx in range(num_blocks):\n",
    "            stride = first_stride if idx == 0 else 1\n",
    "            block = Block(self.out_channels, channels, stride)\n",
    "            self.out_channels = channels * Block.expansion\n",
    "            blocks.append(block)\n",
    "        layer = nn.Sequential(*blocks)\n",
    "        return layer\n",
    "\n",
    "    def forward(self, x):\n",
    "        x = self.conv1(x)\n",
    "        x = self.bn1(x)\n",
    "        x = F.relu(x)\n",
    "        for layer in self.layers:\n",
    "            x = layer(x)\n",
    "        x = F.avg_pool2d(x, 4)\n",
    "        x = x.view(x.size(0), -1)\n",
    "        self.latent_representation = x\n",
    "        y = self.fc1(x)\n",
    "        return y"
   ]
  },
  {
   "cell_type": "markdown",
   "id": "39d6171f",
   "metadata": {},
   "source": [
    "The best performance is shown on the epoch 50 (see Assignment 1), so these weights will be used for inference. Since the weights weigh a lot (~260 Mb), I uploaded them on [google drive](https://drive.google.com/file/d/1MT5XlZF4KdDLuNzEg3110voe4PFSB9dg/view?usp=sharing)."
   ]
  },
  {
   "cell_type": "code",
   "execution_count": 13,
   "id": "7da84fb0",
   "metadata": {},
   "outputs": [
    {
     "data": {
      "text/plain": [
       "ResNet(\n",
       "  (conv1): Conv2d(3, 64, kernel_size=(3, 3), stride=(1, 1), padding=(1, 1), bias=False)\n",
       "  (bn1): BatchNorm2d(64, eps=1e-05, momentum=0.1, affine=True, track_running_stats=True)\n",
       "  (layers): ModuleList(\n",
       "    (0): Sequential(\n",
       "      (0): ResidualBlock(\n",
       "        (conv1): Conv2d(64, 64, kernel_size=(3, 3), stride=(1, 1), padding=(1, 1), bias=False)\n",
       "        (conv2): Conv2d(64, 64, kernel_size=(3, 3), stride=(1, 1), padding=(1, 1), bias=False)\n",
       "        (bn1): BatchNorm2d(64, eps=1e-05, momentum=0.1, affine=True, track_running_stats=True)\n",
       "        (bn2): BatchNorm2d(64, eps=1e-05, momentum=0.1, affine=True, track_running_stats=True)\n",
       "        (shortcut): Sequential()\n",
       "      )\n",
       "      (1): ResidualBlock(\n",
       "        (conv1): Conv2d(64, 64, kernel_size=(3, 3), stride=(1, 1), padding=(1, 1), bias=False)\n",
       "        (conv2): Conv2d(64, 64, kernel_size=(3, 3), stride=(1, 1), padding=(1, 1), bias=False)\n",
       "        (bn1): BatchNorm2d(64, eps=1e-05, momentum=0.1, affine=True, track_running_stats=True)\n",
       "        (bn2): BatchNorm2d(64, eps=1e-05, momentum=0.1, affine=True, track_running_stats=True)\n",
       "        (shortcut): Sequential()\n",
       "      )\n",
       "      (2): ResidualBlock(\n",
       "        (conv1): Conv2d(64, 64, kernel_size=(3, 3), stride=(1, 1), padding=(1, 1), bias=False)\n",
       "        (conv2): Conv2d(64, 64, kernel_size=(3, 3), stride=(1, 1), padding=(1, 1), bias=False)\n",
       "        (bn1): BatchNorm2d(64, eps=1e-05, momentum=0.1, affine=True, track_running_stats=True)\n",
       "        (bn2): BatchNorm2d(64, eps=1e-05, momentum=0.1, affine=True, track_running_stats=True)\n",
       "        (shortcut): Sequential()\n",
       "      )\n",
       "    )\n",
       "    (1): Sequential(\n",
       "      (0): ResidualBlock(\n",
       "        (conv1): Conv2d(64, 128, kernel_size=(3, 3), stride=(2, 2), padding=(1, 1), bias=False)\n",
       "        (conv2): Conv2d(128, 128, kernel_size=(3, 3), stride=(1, 1), padding=(1, 1), bias=False)\n",
       "        (bn1): BatchNorm2d(128, eps=1e-05, momentum=0.1, affine=True, track_running_stats=True)\n",
       "        (bn2): BatchNorm2d(128, eps=1e-05, momentum=0.1, affine=True, track_running_stats=True)\n",
       "        (shortcut): Sequential(\n",
       "          (0): Conv2d(64, 128, kernel_size=(1, 1), stride=(2, 2), bias=False)\n",
       "          (1): BatchNorm2d(128, eps=1e-05, momentum=0.1, affine=True, track_running_stats=True)\n",
       "        )\n",
       "      )\n",
       "      (1): ResidualBlock(\n",
       "        (conv1): Conv2d(128, 128, kernel_size=(3, 3), stride=(1, 1), padding=(1, 1), bias=False)\n",
       "        (conv2): Conv2d(128, 128, kernel_size=(3, 3), stride=(1, 1), padding=(1, 1), bias=False)\n",
       "        (bn1): BatchNorm2d(128, eps=1e-05, momentum=0.1, affine=True, track_running_stats=True)\n",
       "        (bn2): BatchNorm2d(128, eps=1e-05, momentum=0.1, affine=True, track_running_stats=True)\n",
       "        (shortcut): Sequential()\n",
       "      )\n",
       "      (2): ResidualBlock(\n",
       "        (conv1): Conv2d(128, 128, kernel_size=(3, 3), stride=(1, 1), padding=(1, 1), bias=False)\n",
       "        (conv2): Conv2d(128, 128, kernel_size=(3, 3), stride=(1, 1), padding=(1, 1), bias=False)\n",
       "        (bn1): BatchNorm2d(128, eps=1e-05, momentum=0.1, affine=True, track_running_stats=True)\n",
       "        (bn2): BatchNorm2d(128, eps=1e-05, momentum=0.1, affine=True, track_running_stats=True)\n",
       "        (shortcut): Sequential()\n",
       "      )\n",
       "      (3): ResidualBlock(\n",
       "        (conv1): Conv2d(128, 128, kernel_size=(3, 3), stride=(1, 1), padding=(1, 1), bias=False)\n",
       "        (conv2): Conv2d(128, 128, kernel_size=(3, 3), stride=(1, 1), padding=(1, 1), bias=False)\n",
       "        (bn1): BatchNorm2d(128, eps=1e-05, momentum=0.1, affine=True, track_running_stats=True)\n",
       "        (bn2): BatchNorm2d(128, eps=1e-05, momentum=0.1, affine=True, track_running_stats=True)\n",
       "        (shortcut): Sequential()\n",
       "      )\n",
       "    )\n",
       "    (2): Sequential(\n",
       "      (0): ResidualBlock(\n",
       "        (conv1): Conv2d(128, 256, kernel_size=(3, 3), stride=(2, 2), padding=(1, 1), bias=False)\n",
       "        (conv2): Conv2d(256, 256, kernel_size=(3, 3), stride=(1, 1), padding=(1, 1), bias=False)\n",
       "        (bn1): BatchNorm2d(256, eps=1e-05, momentum=0.1, affine=True, track_running_stats=True)\n",
       "        (bn2): BatchNorm2d(256, eps=1e-05, momentum=0.1, affine=True, track_running_stats=True)\n",
       "        (shortcut): Sequential(\n",
       "          (0): Conv2d(128, 256, kernel_size=(1, 1), stride=(2, 2), bias=False)\n",
       "          (1): BatchNorm2d(256, eps=1e-05, momentum=0.1, affine=True, track_running_stats=True)\n",
       "        )\n",
       "      )\n",
       "      (1): ResidualBlock(\n",
       "        (conv1): Conv2d(256, 256, kernel_size=(3, 3), stride=(1, 1), padding=(1, 1), bias=False)\n",
       "        (conv2): Conv2d(256, 256, kernel_size=(3, 3), stride=(1, 1), padding=(1, 1), bias=False)\n",
       "        (bn1): BatchNorm2d(256, eps=1e-05, momentum=0.1, affine=True, track_running_stats=True)\n",
       "        (bn2): BatchNorm2d(256, eps=1e-05, momentum=0.1, affine=True, track_running_stats=True)\n",
       "        (shortcut): Sequential()\n",
       "      )\n",
       "      (2): ResidualBlock(\n",
       "        (conv1): Conv2d(256, 256, kernel_size=(3, 3), stride=(1, 1), padding=(1, 1), bias=False)\n",
       "        (conv2): Conv2d(256, 256, kernel_size=(3, 3), stride=(1, 1), padding=(1, 1), bias=False)\n",
       "        (bn1): BatchNorm2d(256, eps=1e-05, momentum=0.1, affine=True, track_running_stats=True)\n",
       "        (bn2): BatchNorm2d(256, eps=1e-05, momentum=0.1, affine=True, track_running_stats=True)\n",
       "        (shortcut): Sequential()\n",
       "      )\n",
       "      (3): ResidualBlock(\n",
       "        (conv1): Conv2d(256, 256, kernel_size=(3, 3), stride=(1, 1), padding=(1, 1), bias=False)\n",
       "        (conv2): Conv2d(256, 256, kernel_size=(3, 3), stride=(1, 1), padding=(1, 1), bias=False)\n",
       "        (bn1): BatchNorm2d(256, eps=1e-05, momentum=0.1, affine=True, track_running_stats=True)\n",
       "        (bn2): BatchNorm2d(256, eps=1e-05, momentum=0.1, affine=True, track_running_stats=True)\n",
       "        (shortcut): Sequential()\n",
       "      )\n",
       "      (4): ResidualBlock(\n",
       "        (conv1): Conv2d(256, 256, kernel_size=(3, 3), stride=(1, 1), padding=(1, 1), bias=False)\n",
       "        (conv2): Conv2d(256, 256, kernel_size=(3, 3), stride=(1, 1), padding=(1, 1), bias=False)\n",
       "        (bn1): BatchNorm2d(256, eps=1e-05, momentum=0.1, affine=True, track_running_stats=True)\n",
       "        (bn2): BatchNorm2d(256, eps=1e-05, momentum=0.1, affine=True, track_running_stats=True)\n",
       "        (shortcut): Sequential()\n",
       "      )\n",
       "      (5): ResidualBlock(\n",
       "        (conv1): Conv2d(256, 256, kernel_size=(3, 3), stride=(1, 1), padding=(1, 1), bias=False)\n",
       "        (conv2): Conv2d(256, 256, kernel_size=(3, 3), stride=(1, 1), padding=(1, 1), bias=False)\n",
       "        (bn1): BatchNorm2d(256, eps=1e-05, momentum=0.1, affine=True, track_running_stats=True)\n",
       "        (bn2): BatchNorm2d(256, eps=1e-05, momentum=0.1, affine=True, track_running_stats=True)\n",
       "        (shortcut): Sequential()\n",
       "      )\n",
       "    )\n",
       "    (3): Sequential(\n",
       "      (0): ResidualBlock(\n",
       "        (conv1): Conv2d(256, 512, kernel_size=(3, 3), stride=(2, 2), padding=(1, 1), bias=False)\n",
       "        (conv2): Conv2d(512, 512, kernel_size=(3, 3), stride=(1, 1), padding=(1, 1), bias=False)\n",
       "        (bn1): BatchNorm2d(512, eps=1e-05, momentum=0.1, affine=True, track_running_stats=True)\n",
       "        (bn2): BatchNorm2d(512, eps=1e-05, momentum=0.1, affine=True, track_running_stats=True)\n",
       "        (shortcut): Sequential(\n",
       "          (0): Conv2d(256, 512, kernel_size=(1, 1), stride=(2, 2), bias=False)\n",
       "          (1): BatchNorm2d(512, eps=1e-05, momentum=0.1, affine=True, track_running_stats=True)\n",
       "        )\n",
       "      )\n",
       "      (1): ResidualBlock(\n",
       "        (conv1): Conv2d(512, 512, kernel_size=(3, 3), stride=(1, 1), padding=(1, 1), bias=False)\n",
       "        (conv2): Conv2d(512, 512, kernel_size=(3, 3), stride=(1, 1), padding=(1, 1), bias=False)\n",
       "        (bn1): BatchNorm2d(512, eps=1e-05, momentum=0.1, affine=True, track_running_stats=True)\n",
       "        (bn2): BatchNorm2d(512, eps=1e-05, momentum=0.1, affine=True, track_running_stats=True)\n",
       "        (shortcut): Sequential()\n",
       "      )\n",
       "      (2): ResidualBlock(\n",
       "        (conv1): Conv2d(512, 512, kernel_size=(3, 3), stride=(1, 1), padding=(1, 1), bias=False)\n",
       "        (conv2): Conv2d(512, 512, kernel_size=(3, 3), stride=(1, 1), padding=(1, 1), bias=False)\n",
       "        (bn1): BatchNorm2d(512, eps=1e-05, momentum=0.1, affine=True, track_running_stats=True)\n",
       "        (bn2): BatchNorm2d(512, eps=1e-05, momentum=0.1, affine=True, track_running_stats=True)\n",
       "        (shortcut): Sequential()\n",
       "      )\n",
       "    )\n",
       "  )\n",
       "  (fc1): Linear(in_features=512, out_features=10, bias=True)\n",
       ")"
      ]
     },
     "execution_count": 13,
     "metadata": {},
     "output_type": "execute_result"
    }
   ],
   "source": [
    "checkpoint = torch.load(os.path.join(\"weights\", \"baseline.pt\"))\n",
    "baseline = ResNet(3, 64, [3, 4, 6, 3]).to(configs['device'])\n",
    "baseline.load_state_dict(checkpoint['model_state_dict'])\n",
    "baseline.eval()"
   ]
  },
  {
   "cell_type": "code",
   "execution_count": 14,
   "id": "0980a8af",
   "metadata": {},
   "outputs": [],
   "source": [
    "def validate(model, loader):\n",
    "    \"\"\"Evaluation routine for the model. \n",
    "    \n",
    "    Iteratively retrieves new batch from dataloader, feeds it to the\n",
    "    model, computes balanced accuracy score, and plots confustion matrix.\n",
    "    \n",
    "    Parameters\n",
    "    ----------\n",
    "    model : torch.Module\n",
    "        model to be validated\n",
    "    \n",
    "    loader : torch.data.utils.Dataloader\n",
    "        iterable with sample batches\n",
    "\n",
    "    Returns\n",
    "    -------\n",
    "    accuracy : float\n",
    "        average balanced accuracy score (in %) of a model\n",
    "    \"\"\"\n",
    "    model.eval()\n",
    "    history = {\"True\": [], \"Predicted\": []}\n",
    "    with torch.no_grad():\n",
    "        for i, (images, labels) in enumerate(loader):\n",
    "            images, labels = images.to(configs['device']), labels.to(configs['device'])\n",
    "            predictions = model(images / 255.0)\n",
    "            del images\n",
    "            torch.cuda.empty_cache()\n",
    "            \n",
    "            _, predicted_classes = predictions.max(1)\n",
    "            predicted_classes = predicted_classes.cpu().detach().numpy()\n",
    "            labels = labels.cpu().detach().numpy()\n",
    "            \n",
    "            history[\"True\"] += list(labels)\n",
    "            history[\"Predicted\"] += list(predicted_classes)\n",
    "    \n",
    "    accuracy = balanced_accuracy_score(history[\"True\"], history[\"Predicted\"])\n",
    "    ConfusionMatrixDisplay.from_predictions(history[\"True\"], history[\"Predicted\"], display_labels=labels_text, xticks_rotation='vertical')\n",
    "    plt.show()\n",
    "    return accuracy"
   ]
  },
  {
   "cell_type": "code",
   "execution_count": 15,
   "id": "887a0f31",
   "metadata": {},
   "outputs": [
    {
     "data": {
      "image/png": "[encoded data removed]",
      "text/plain": [
       "<Figure size 432x288 with 2 Axes>"
      ]
     },
     "metadata": {
      "needs_background": "light"
     },
     "output_type": "display_data"
    }
   ],
   "source": [
    "accuracy = validate(baseline, validationloader)"
   ]
  },
  {
   "cell_type": "code",
   "execution_count": 16,
   "id": "bd35bcbe",
   "metadata": {
    "scrolled": true
   },
   "outputs": [
    {
     "name": "stdout",
     "output_type": "stream",
     "text": [
      "The baseline model has reached 91.77% of weighted accuracy.\n"
     ]
    }
   ],
   "source": [
    "print(f\"The baseline model has reached {accuracy * 100:.2f}% of weighted accuracy.\")"
   ]
  },
  {
   "cell_type": "markdown",
   "id": "484008fb",
   "metadata": {},
   "source": [
    "### 3. Adversarial attacking"
   ]
  },
  {
   "cell_type": "markdown",
   "id": "4e741e84",
   "metadata": {},
   "source": [
    "This section presents implementaton of Carlini & Wagner (C&W) attack. The impact of this attack on a baseline model will be measured in terms of balanced accuracy score. The adversarial samples will be generated from validation set, on which the baseline scored 92% of balanced accuracy."
   ]
  },
  {
   "cell_type": "code",
   "execution_count": 17,
   "id": "20563046",
   "metadata": {},
   "outputs": [],
   "source": [
    "def visualize_single_attack(model, attack):\n",
    "    \"\"\"Visualize result of an attack on a model.\n",
    "\n",
    "    Plots original image along with targeted and untargeted adversarial \n",
    "    sample. All auxiliary information is specified in suptitle of each\n",
    "    image.\n",
    "\n",
    "    Parameters\n",
    "    ----------\n",
    "    model : torch.Module\n",
    "        model to be attacked\n",
    "    \n",
    "    attack : tuple\n",
    "        pair of attack name and instance of attack class\n",
    "    \"\"\"\n",
    "    model.cpu()\n",
    "    name, f = attack\n",
    "    idx = random.randint(0, len(validationset) - 1)\n",
    "    image, label = validationset[idx]\n",
    "    _image = image / 255.0\n",
    "    \n",
    "    fig, (ax1, ax2, ax3) = plt.subplots(1, 3)\n",
    "    fig.set_size_inches(15, 5)\n",
    "    fig.suptitle(f'{name} applied to sample with label \"{classes[label]}\"')\n",
    "\n",
    "    pred_original = model(_image.unsqueeze(0))\n",
    "    _, pred_original_class = pred_original.max(1)\n",
    "    ax1.set_title(f'Original: pred=\"{classes[pred_original_class[0].item()]}\"')\n",
    "    ax1.imshow(np.clip(_image.permute(1, 2, 0), 0, 1))\n",
    "    \n",
    "    adversarial = f(model, _image.unsqueeze(0), torch.LongTensor([label]))\n",
    "    pred_adversarial = model(adversarial)\n",
    "    _, pred_adversarial_class = pred_adversarial.max(1)\n",
    "    ax2.set_title(f'Adversarial no target: pred=\"{classes[pred_adversarial_class[0].item()]}\"')\n",
    "    ax2.imshow(np.clip(adversarial[0].permute(1, 2, 0).detach().numpy(), 0, 1))\n",
    "    \n",
    "    target_idx = label\n",
    "    while target_idx == label:\n",
    "        target_idx = random.randint(0, len(labels_text) - 1)\n",
    "    target_class = classes[target_idx]\n",
    "    adversarial = f(model, _image.unsqueeze(0), torch.LongTensor([label]), torch.LongTensor([target_idx]))\n",
    "    pred_adversarial = model(adversarial)\n",
    "    _, pred_adversarial_class = pred_adversarial.max(1)\n",
    "    ax3.set_title(f'Adversarial target {target_class}: pred=\"{classes[pred_adversarial_class[0].item()]}\"')\n",
    "    ax3.imshow(np.clip(adversarial[0].permute(1, 2, 0).detach().numpy(), 0, 1))\n",
    "    \n",
    "    plt.show()"
   ]
  },
  {
   "cell_type": "code",
   "execution_count": 18,
   "id": "fc5085cd",
   "metadata": {},
   "outputs": [],
   "source": [
    "def validate_adversarial(model, loader, attack):\n",
    "    \"\"\"Check the performance of model on attacked validation dataset.\n",
    "\n",
    "    Iteratively attacks model using new batch of validation dataset. Computes\n",
    "    ba\n",
    "\n",
    "    Iteratively retrieves new batch from dataloader, attacks the model using it, \n",
    "    feeds adversarial samples to model, computes balanced accuracy score on \n",
    "    adversarial samples, and plots confustion matrix.\n",
    "\n",
    "    Parameters\n",
    "    ----------\n",
    "    model : torch.Module\n",
    "        model to be validated\n",
    "    \n",
    "    loader : torch.data.utils.Dataloader\n",
    "        iterable with sample batches\n",
    "    \n",
    "    attack : tuple\n",
    "        pair of attack name and instance of attack class\n",
    "    \"\"\"\n",
    "    name, f = attack\n",
    "    model.to(configs['device'])\n",
    "    model.eval()\n",
    "    history = {\"True\": [], \"Predicted\": []}\n",
    "    for i, (images, labels) in enumerate(loader):\n",
    "        images, labels = images.to(configs['device']), labels.to(configs['device'])\n",
    "        adversarial = f(model, images / 255.0, labels)\n",
    "        predictions = model(adversarial)\n",
    "        del images, adversarial\n",
    "        torch.cuda.empty_cache()\n",
    "        _, predicted_classes = predictions.max(1)\n",
    "        predicted_classes = predicted_classes.cpu().detach().numpy()\n",
    "        labels = labels.cpu().detach().numpy()\n",
    "\n",
    "        history[\"True\"] += list(labels)\n",
    "        history[\"Predicted\"] += list(predicted_classes)\n",
    "    \n",
    "    accuracy = balanced_accuracy_score(history[\"True\"], history[\"Predicted\"])\n",
    "    print(f\"Attack {name}: The baseline model has reached {accuracy * 100:.2f}% of weighted accuracy.\")\n",
    "    \n",
    "    ConfusionMatrixDisplay.from_predictions(history[\"True\"], history[\"Predicted\"], display_labels=labels_text, xticks_rotation='vertical')\n",
    "    plt.show()"
   ]
  },
  {
   "cell_type": "markdown",
   "id": "a708ac0e",
   "metadata": {},
   "source": [
    "#### 3.1. Carlini & Wagner (C&W)"
   ]
  },
  {
   "cell_type": "markdown",
   "id": "a39c5311",
   "metadata": {},
   "source": [
    "This approach was proposed by Carlini and Wagner in [\"Towards Evaluating the Robustness of Neural Networks\"](https://arxiv.org/abs/1608.04644). The attack there is formulated as a minimization of $\\mathcal{D}(x, x+\\delta) + c \\cdot f(x + \\delta)$ such that $x + \\delta \\in [0, 1]^n$, where $\\mathcal{D}$ is a distance metric (e.g. $l_2$ norm), and $f$ is an objective function. Authors suggest to use $f(x') = \\max (\\max_{i \\neq t} (F(x')_i)-F(x')_t, 0)$ that correspond to $f_6$ in paper. The constant $c$ is a topic for further study, but from Fig.2 it seems that the value of $1.5$ is sufficient. To ensure that the output image is valid, the box constraint is defined through change the variables trick as $\\delta_i=\\frac{1}{2}(\\tanh(w_i)+1)-x_i$."
   ]
  },
  {
   "cell_type": "code",
   "execution_count": 19,
   "id": "b87b2a24",
   "metadata": {},
   "outputs": [],
   "source": [
    "class CarliniWagnerAttack:\n",
    "    \"\"\"\n",
    "    Implementation of Carlini & Wagner attack.\n",
    "    \"\"\"\n",
    "    \n",
    "    def __init__(self, c=10, lr=1e-2, iterations=10, device=\"cuda\"):\n",
    "        \"\"\"Constructor of Carlini & Wagner attack.\n",
    "\n",
    "        Parameters\n",
    "        ----------\n",
    "        c : int\n",
    "            coefficient on which loss function f6 is multiplied\n",
    "        \n",
    "        lr : float\n",
    "            learning rate of an attack\n",
    "        \n",
    "        iterations : int\n",
    "            number of iterations of an attack\n",
    "        \n",
    "        device : str\n",
    "            device to use for computations\n",
    "        \"\"\"\n",
    "        self.c = c\n",
    "        self.lr = lr\n",
    "        self.iterations = iterations\n",
    "        self.device = device\n",
    "    \n",
    "    def __call__(self, model, x, y, target=None):\n",
    "        \"\"\"Attack the model.\n",
    "\n",
    "        Parameters\n",
    "        ----------\n",
    "        model : torch.Module\n",
    "\n",
    "        x : torch.Tensor\n",
    "            images of an input batch\n",
    "\n",
    "        y : torch.Tensor\n",
    "            class labels of an input batch\n",
    "\n",
    "        target : torch.Tensor\n",
    "            target class labels for the attack\n",
    "        \n",
    "        Returns\n",
    "        -------\n",
    "        adversarial_sample : torch.Tensor\n",
    "            resultant adversarial sample\n",
    "        \"\"\"\n",
    "        adversarial_sample = self._attack(model, x, y, target)\n",
    "        return adversarial_sample\n",
    "\n",
    "    def _attack(self, model, x, y, target):\n",
    "        \"\"\"Implementation of attacking.\n",
    "\n",
    "        Adversarial sample is the result of optimization with an objective \n",
    "        function comprised of L2-norm and rectifier function f6 as suggested \n",
    "        in original paper. Note that resultant adversarial sample is in the \n",
    "        range of [0..1].\n",
    "\n",
    "        Parameters\n",
    "        ----------\n",
    "        model : torch.Module\n",
    "\n",
    "        x : torch.Tensor\n",
    "            images of an input batch\n",
    "\n",
    "        y : torch.Tensor\n",
    "            class labels of an input batch\n",
    "\n",
    "        target : torch.Tensor\n",
    "            target class labels for the attack\n",
    "        \n",
    "        Returns\n",
    "        -------\n",
    "        adversarial_sample : torch.Tensor\n",
    "            resultant adversarial sample\n",
    "        \"\"\"\n",
    "        w = torch.atanh(2 * x - 1).to(self.device)\n",
    "        w.requires_grad = True\n",
    "        \n",
    "        optimizer = optim.SGD([w], lr=self.lr)\n",
    "        for _ in range(self.iterations):\n",
    "            optimizer.zero_grad()\n",
    "            adversarial_sample = 0.5 * (torch.tanh(w) + 1)\n",
    "            l2_norm = nn.MSELoss()(adversarial_sample, x)     \n",
    "            objective = self.c * self._f6(model, adversarial_sample, y, target).sum()\n",
    "            loss = l2_norm + objective\n",
    "            loss.backward()\n",
    "            optimizer.step()\n",
    "        return adversarial_sample.detach()\n",
    "    \n",
    "    def _f6(self, model, x, y, target):\n",
    "        \"\"\"Rectifier function f6.\n",
    "        \n",
    "        Parameters\n",
    "        ----------\n",
    "        model : torch.Module\n",
    "\n",
    "        x : torch.Tensor\n",
    "            images of an input batch\n",
    "\n",
    "        y : torch.Tensor\n",
    "            class labels of an input batch\n",
    "\n",
    "        target : torch.Tensor\n",
    "            target class labels for the attack\n",
    "        \n",
    "        Returns\n",
    "        -------\n",
    "        diff : torch.Tensor\n",
    "            result of rectification\n",
    "        \"\"\"\n",
    "        labels = y if target is None else target\n",
    "        predictions = model(x)\n",
    "        predictions_ = predictions.clone()\n",
    "        predictions_[range(predictions_.shape[0]), labels] = torch.min(predictions) - 1\n",
    "        max_non_target, _ = torch.max(predictions_, dim=1)\n",
    "        prediction_target_idx = predictions[range(predictions_.shape[0]), labels]\n",
    "        \n",
    "        if target is not None:\n",
    "            diff = max_non_target - prediction_target_idx\n",
    "        else:\n",
    "            diff = prediction_target_idx - max_non_target\n",
    "        \n",
    "        diff = torch.clamp(diff, min=0)\n",
    "        return diff"
   ]
  },
  {
   "cell_type": "code",
   "execution_count": 20,
   "id": "0f81a3bd",
   "metadata": {
    "scrolled": true
   },
   "outputs": [
    {
     "data": {
      "image/png": "[encoded data removed]",
      "text/plain": [
       "<Figure size 1080x360 with 3 Axes>"
      ]
     },
     "metadata": {
      "needs_background": "light"
     },
     "output_type": "display_data"
    }
   ],
   "source": [
    "visualize_single_attack(baseline, (\"C&W\", CarliniWagnerAttack(device=\"cpu\")))"
   ]
  },
  {
   "cell_type": "code",
   "execution_count": 21,
   "id": "f8f91106",
   "metadata": {
    "scrolled": true
   },
   "outputs": [
    {
     "name": "stdout",
     "output_type": "stream",
     "text": [
      "Attack C&W: The baseline model has reached 0.00% of weighted accuracy.\n"
     ]
    },
    {
     "data": {
      "image/png": "[encoded data removed]",
      "text/plain": [
       "<Figure size 432x288 with 2 Axes>"
      ]
     },
     "metadata": {
      "needs_background": "light"
     },
     "output_type": "display_data"
    }
   ],
   "source": [
    "validate_adversarial(baseline, validationloader, (\"C&W\", CarliniWagnerAttack()))"
   ]
  },
  {
   "cell_type": "code",
   "execution_count": 22,
   "metadata": {},
   "outputs": [],
   "source": [
    "gc.collect()\n",
    "torch.cuda.empty_cache()"
   ]
  },
  {
   "cell_type": "markdown",
   "metadata": {},
   "source": [
    "### 4. Kernel Density Estimation"
   ]
  },
  {
   "cell_type": "markdown",
   "metadata": {},
   "source": [
    "#### 4.1 Kernel Density Estimator"
   ]
  },
  {
   "cell_type": "markdown",
   "metadata": {},
   "source": [
    "This defense was proposed in [\"Detecting Adversarial Samples from Artifacts\"](https://arxiv.org/abs/1703.00410) by Feinman et al. Authors introduce a density estimate $\\text{KDE}(x)$ that can be used as a measure how far $x$ is from submanifold of $t$. Specifically, given an instance $x$ classified as label $t$, the kernel density estimation is given by \n",
    "\n",
    "\n",
    "\n",
    "$$\\text{KDE}(x) = \\frac{1}{|X_t|} \\sum_{x_i \\in X_t} k_{\\sigma}(  F^{n-1}(x_i) \\text{, } F^{n-1}(x))$$\n",
    "$$k_{\\sigma}(x, y) \\sim \\text{exp}(-||x - y||^2 / \\sigma^2)$$\n",
    "\n",
    "where $k_\\sigma(\\cdot, \\cdot)$ is the kernel function, $X_t$ is a set of training instances with label $t$, and $F^{n-1}(x)$ is the output of the final hidden layer on input $x$, and $\\sigma$ is a bandwidth of a kernel that typically can be chosen as a value that maximizes the log-likelyhood of the training data. However, a value too small will give rise to a *spiky* density estimate with too many gaps, and a value too large will give rise to an overly-smooth density estimate. \n",
    "\n",
    "The methodology is taken directly from section 5.2 of [\"Adversarial Examples Are Not Easily Detected: Bypassing Ten Detection Methods\"](https://arxiv.org/abs/1705.07263) by Carlini N. and Wagner D. We will refer to it quite often in the following sections."
   ]
  },
  {
   "cell_type": "code",
   "execution_count": 23,
   "metadata": {},
   "outputs": [],
   "source": [
    "class KernelDensityEstimator:\n",
    "    \"\"\"Implementation of Kernel Density Estimator.\"\"\"\n",
    "\n",
    "    def __init__(self, model, sigma=20):\n",
    "        \"\"\"Constructor of kernel density estimator.\n",
    "\n",
    "        Parameters\n",
    "        ----------\n",
    "        model : torch.Module\n",
    "            image feature extractor from where there could\n",
    "            be retrieved latent representation\n",
    "        \n",
    "        sigma : int\n",
    "            bandwidth of a kernel\n",
    "        \"\"\"\n",
    "        self.model = model\n",
    "        self.sigma = sigma\n",
    "        self.density_estimations = None\n",
    "    \n",
    "    def fit(self, trainset, labels, frac=0.002):\n",
    "        \"\"\"Estimate kernel density for the input data.\n",
    "\n",
    "        Iteratively retrieves random sample from dataset, applies image feature\n",
    "        extractor to it, and saves latent representation in dictionary by key \n",
    "        label. Assert that all classes indeed have desired number of data points.\n",
    "\n",
    "        Important Note! - in original paper authors suggest to use a sample from \n",
    "        original dataset to perform kde. In fact, this sample might be imbalanced \n",
    "        in terms of image classes. Therefore, I've implemented slightly different \n",
    "        approach when user explicitly specifies required number of centers in each \n",
    "        class. \n",
    "\n",
    "        Parameters\n",
    "        ----------\n",
    "        trainset : torch.data.util.Dataset\n",
    "            dataset containing images and class labels\n",
    "        \n",
    "        labels : iterable\n",
    "            set of possible labels of images\n",
    "        \n",
    "        frac : float \n",
    "            should be in range of [0..1]\n",
    "            minimal required portion of samples (centers) of each\n",
    "            class to estimate density function\n",
    "        \"\"\"\n",
    "        device = configs[\"device\"]\n",
    "        n_centers = int(len(trainset) * frac)\n",
    "        self.n_centers = n_centers\n",
    "        _density_estimations = {label: list() for label in labels}\n",
    "        _finished = [False for _ in labels]\n",
    "        with torch.no_grad():\n",
    "            self.model.to(device)\n",
    "            for idx in range(len(trainset)):\n",
    "                image, label = trainset[idx]\n",
    "                if len(_density_estimations[label]) >= n_centers:\n",
    "                    _finished[label] = True\n",
    "                    if all(_finished):\n",
    "                        break\n",
    "                    continue\n",
    "                image = (image.to(device) / 255.0).unsqueeze(dim=0)\n",
    "                _ = self.model(image)\n",
    "                latent_representation = self.model.latent_representation.squeeze(0)\n",
    "                _density_estimations[label].append(latent_representation)\n",
    "                del image\n",
    "            for label in labels:\n",
    "                _density_estimations[label] = torch.stack(_density_estimations[label]) \n",
    "            message = \"Provided dataset does not have desired number of centers for KDE!\"\n",
    "            assert all(_finished), message\n",
    "            self.density_estimations = _density_estimations\n",
    "        \n",
    "    def get_epsilon(self):\n",
    "        \"\"\"Find epsilon for KDE loss of adversarial attack.\n",
    "\n",
    "        As suggested in the paper as an epsilon in KDE loss there is used medean \n",
    "        of -log(KDE(x)) on the training set. This ensures that new loss is less or \n",
    "        equal zero iff KDE(x') is greater than half of the training instances KDE.\n",
    "\n",
    "        Returns\n",
    "        -------\n",
    "        epsilon : float\n",
    "            median of all KDEs on training instances\n",
    "        \"\"\"\n",
    "        log_kdes = list()\n",
    "        n_centers = self.n_centers\n",
    "        for key in self.density_estimations.keys():\n",
    "            _density_estimations = self.density_estimations[key]\n",
    "            for idx in range(n_centers):\n",
    "                x_representations = torch.stack([_density_estimations[idx]] * n_centers)\n",
    "                kde = torch.mean(self._gaussian_kernel(_density_estimations, x_representations))\n",
    "                log_kdes.append(-torch.log(kde))\n",
    "        log_kdes = torch.FloatTensor(log_kdes)\n",
    "        epsilon = torch.median(log_kdes).item()\n",
    "        return epsilon\n",
    "\n",
    "    def __call__(self, x):\n",
    "        \"\"\"Compute kernel density estimation for sample.\n",
    "\n",
    "        This method is designed for batches, i.e. requires 4D arrays\n",
    "        as an input. For a given batch predicts classes, then retrieves\n",
    "        latent representations of training samples with same target, and\n",
    "        finally computes KDE of input sample w.r.t. training data points.\n",
    "\n",
    "        Parameters\n",
    "        ----------\n",
    "        x : torch.Tensor\n",
    "            batch of images which KDE to be computed\n",
    "        \n",
    "        Returns\n",
    "        -------\n",
    "        kde : torch.Tensor\n",
    "            1D array of KDEs for each input sample\n",
    "        \"\"\"\n",
    "        if self.density_estimations is None:\n",
    "            print(\"You should fit kernel density estimator first!\")\n",
    "            return \n",
    "        device = configs[\"device\"]\n",
    "        logits = self.model(x)\n",
    "        _, predicted_classes = logits.max(dim=1)\n",
    "        predicted_classes = list(predicted_classes.cpu().detach().numpy())\n",
    "        batch_density_estimation = list()\n",
    "        for predicted_class in predicted_classes:\n",
    "            density_estimation = self.density_estimations[predicted_class]\n",
    "            batch_density_estimation.append(density_estimation)\n",
    "        batch_density_estimation = torch.stack(batch_density_estimation)\n",
    "        batch_size, _, _ = batch_density_estimation.shape\n",
    "        batch_x_representations = list()\n",
    "        for idx in range(batch_size):\n",
    "            x_representation = self.model.latent_representation[idx]\n",
    "            batch_x_representation = torch.stack([x_representation] * self.n_centers)\n",
    "            batch_x_representations.append(batch_x_representation)\n",
    "        batch_x_representations = torch.stack(batch_x_representations)\n",
    "        kde = torch.mean(self._gaussian_kernel(batch_density_estimation, batch_x_representations), dim=1)\n",
    "        return kde\n",
    "    \n",
    "    def _gaussian_kernel(self, x, y):\n",
    "        \"\"\"Compute Gaussian Kernel.\n",
    "\n",
    "        Implementation of Gaussian kernel function defined as \n",
    "            k(x, y) = exp(-norm(x - y)^2 / sigma^2)\n",
    "        Works both for 1D and 2D data points.\n",
    "\n",
    "        Parameters\n",
    "        ----------\n",
    "        x : torch.Tensor\n",
    "            first data point(s)\n",
    "\n",
    "        y : torch.Tensor\n",
    "            second data point(s)\n",
    "        \n",
    "        Returns\n",
    "        -------\n",
    "        kernel : torch.Tensor\n",
    "            Gaussian kernel\n",
    "        \"\"\"\n",
    "        diff = x - y\n",
    "        n_dim = len(diff.shape)\n",
    "        norm = torch.norm(diff, dim=n_dim - 1) \n",
    "        kernel = torch.exp(-(norm / self.sigma) ** 2)\n",
    "        return kernel"
   ]
  },
  {
   "cell_type": "code",
   "execution_count": 24,
   "metadata": {},
   "outputs": [],
   "source": [
    "kde = KernelDensityEstimator(baseline)\n",
    "kde.fit(trainset, list(classes.keys()), frac=0.02)"
   ]
  },
  {
   "cell_type": "code",
   "execution_count": 25,
   "metadata": {},
   "outputs": [],
   "source": [
    "def compare_kde_distributions(kde, attack, model, validationloader):\n",
    "    \"\"\"Compare KDE distributions for natural and adversarial samples.\n",
    "\n",
    "    KDE : KernelDensityEstimator\n",
    "        kernel density estimator\n",
    "\n",
    "    attack : CarliniWagnerAttack\n",
    "        callable creating adversarial sample\n",
    "    \n",
    "    model : torch.Module\n",
    "        model to attack\n",
    "    \n",
    "    validationloader : torch.data.utils.Dataloader\n",
    "        iterable with validation data\n",
    "    \"\"\"\n",
    "    naturals, adversarials = list(), list()\n",
    "    device = configs[\"device\"]\n",
    "    for images, labels in validationloader:\n",
    "        images, labels = images.to(device) / 255., labels.to(device)\n",
    "        label = random.choice(list(classes.keys()))\n",
    "        targets = torch.full(labels.shape, label)\n",
    "        adversarial = attack(model, images, labels, targets)\n",
    "        naturals.append(kde(images).detach())\n",
    "        adversarials.append(kde(adversarial).detach())\n",
    "    naturals  = torch.cat(naturals, dim=0).cpu().numpy()\n",
    "    adversarials = torch.cat(adversarials, dim=0).cpu().numpy()\n",
    "\n",
    "    print(f\"Natural: {naturals.mean():.4f} ± {naturals.std():.4f}\")\n",
    "    print(f\"Adversarial: {adversarials.mean():.4f} ± {adversarials.std():.4f}\")\n",
    "    print()\n",
    "\n",
    "    pvalue = ttest_ind(naturals, adversarials).pvalue\n",
    "    print(\"Null hypothesis: natural and adversarial samples come from same distribution \")\n",
    "    print(\"Alternative hypothesis: adversarial samples come from different distribution\")\n",
    "    print(\"Confidende interval: 0.95\")\n",
    "    print(f\"P-value: {pvalue:.4f}\")\n",
    "    print(f\"T-test: {'Reject Null Hypothesis' if pvalue < 0.05 else 'Accept Null Hypothesis'}\")\n",
    "\n",
    "    fig, ax = plt.subplots(1, 1)\n",
    "    fig.set_size_inches(12, 8)\n",
    "    ax.set_title(\"KDE distributions\")\n",
    "    ax.grid()\n",
    "    ax.hist(naturals, bins=100, color='b', label=\"Natural\")\n",
    "    ax.hist(adversarials, bins=100, color='r', alpha=0.8, label=\"Adversarial\")\n",
    "    ax.legend()\n",
    "    plt.show()"
   ]
  },
  {
   "cell_type": "code",
   "execution_count": 26,
   "metadata": {},
   "outputs": [
    {
     "name": "stdout",
     "output_type": "stream",
     "text": [
      "Natural: 0.3309 ± 0.0849\n",
      "Adversarial: 0.2888 ± 0.0782\n",
      "\n",
      "Null hypothesis: natural and adversarial samples come from same distribution \n",
      "Alternative hypothesis: adversarial samples come from different distribution\n",
      "Confidende interval: 0.95\n",
      "P-value: 0.0000\n",
      "T-test: Reject Null Hypothesis\n"
     ]
    },
    {
     "data": {
      "image/png": "[encoded data removed]",
      "text/plain": [
       "<Figure size 864x576 with 1 Axes>"
      ]
     },
     "metadata": {
      "needs_background": "light"
     },
     "output_type": "display_data"
    }
   ],
   "source": [
    "attack = CarliniWagnerAttack()\n",
    "compare_kde_distributions(kde, attack, baseline, validationloader)"
   ]
  },
  {
   "cell_type": "markdown",
   "metadata": {},
   "source": [
    "As you can see, there is a huge overlap between these two distributions. Firstly, we need to be sure that these two populations come from different distributions. Accordinly, let's introduce Null Hypothesis $N_0$: natural and adversarial samples come from same distribution, and Alternative Hypothesis: adversarial samples come from different distribution. Let's use Student's t-test with confidence interval of $0.95$: the $\\text{p-value}$ is negligibly small, so we reject the Null Hypothesis.\n",
    "\n",
    "Further, let's try to quantify these two populations: mean of KDEs for natural samples $\\mu_n = 0.3309$ is located to the right of the adversarial mean $\\mu_a = 0.2888$, the values of standard deviation are compatible for both cases $\\sigma_n=0.0849 \\sim 0.0782 = \\sigma_a$. Therefore, we can say that natural samples are likely to have higher kernel density estimations than adversarial ones."
   ]
  },
  {
   "cell_type": "markdown",
   "metadata": {},
   "source": [
    "#### 4.2 Adversarial Detector"
   ]
  },
  {
   "cell_type": "markdown",
   "metadata": {},
   "source": [
    "The detector over Kernel Density Estimator is thus constructed by selecting threshold $\\tau$ and reporting $x$ as adversarial if $\\text{KDE}(x) < \\tau$, otherwise reporting $x$ is natural. Unfortunately, neither Carlini & Wagner or Feinman et al. provide algorithm to estimate this threshold. Therefore, I propose quite natural (or even naive) way to define $\\tau$.\n",
    "\n",
    "Assuming that defender has both train and test subsets to construct adversarial detector, let's estimate kernel density for each sample in test dataset. The result will be an array of KDEs, for which we further compute mean $\\mu$ and standard deviation $\\sigma$. Threshold $\\tau$ thus is given by\n",
    "$$\\tau = \\mu - c \\cdot \\sigma$$\n",
    "where $c$ is coefficient representing our confidence in estimate, emperically* I found that $\\tau = 0.05$ is sufficient for CIFAR dataset \n",
    "\n",
    "\\* grid search with step size of $0.05$ on 100 random shuffles of dataset"
   ]
  },
  {
   "cell_type": "code",
   "execution_count": 27,
   "metadata": {},
   "outputs": [],
   "source": [
    "class DetectorKDE:\n",
    "    \"\"\"Implementation of KDE-based adversarial detector.\"\"\"\n",
    "\n",
    "    def __init__(self, kde, tau):\n",
    "        \"\"\"Constructor of KDE-based adversarial detector.\n",
    "\n",
    "        Parameters\n",
    "        ----------\n",
    "        kde : KernelDensityEstimator\n",
    "            kernel density esttimator\n",
    "        \n",
    "        tau : float\n",
    "            threshold of kernel denstiy estimation to classify \n",
    "            as natural, i.e. if KDE(x) > tau then sample is natural\n",
    "            and adversarial otherwise\n",
    "        \"\"\"\n",
    "        self.kde = kde\n",
    "        self.tau = tau\n",
    "    \n",
    "    def __call__(self, x):\n",
    "        \"\"\"Detect adversarial samples.\n",
    "\n",
    "        Parameters\n",
    "        ----------\n",
    "        x : torch.Tensor\n",
    "            4D array of images \n",
    "\n",
    "        Returns\n",
    "        -------\n",
    "        mask : torch.Tensor\n",
    "            classes of samples: 0 if natural, 1 if adversarial\n",
    "        \"\"\"\n",
    "        kde = self.kde(x)\n",
    "        mask = (kde < self.tau).long()\n",
    "        return mask"
   ]
  },
  {
   "cell_type": "code",
   "execution_count": 28,
   "metadata": {},
   "outputs": [],
   "source": [
    "def estimate_tau(kde, testloader, c=0.05):\n",
    "    \"\"\"Estimate tau for KDE-based adversarial detector.\n",
    "\n",
    "    Intended to be estimated on test dataset. Determines mean \n",
    "    and standard deviaton of KDEs over test samples. Threshold\n",
    "    tau is computed as mean - std.\n",
    "\n",
    "    Parameters\n",
    "    ----------\n",
    "    kde : KernelDensityEstimator\n",
    "        kernel density esttimator\n",
    "    \n",
    "    testloader : torch.data.utils.Dataloader\n",
    "        iterable with test data\n",
    "    \n",
    "    Returns\n",
    "    -------\n",
    "    tau : float\n",
    "        threshold for adversarial samples detection\n",
    "    \"\"\"\n",
    "    with torch.no_grad():\n",
    "        kdes = list()\n",
    "        device = configs[\"device\"]\n",
    "        for images, labels in testloader:\n",
    "            images, labels = images.to(device) / 255., labels.to(device)\n",
    "            kdes.append(kde(images)) \n",
    "        kdes = torch.cat(kdes, dim=0)\n",
    "        tau = (kdes.mean() - c * kdes.std()).item()\n",
    "        return tau"
   ]
  },
  {
   "cell_type": "code",
   "execution_count": 29,
   "metadata": {},
   "outputs": [],
   "source": [
    "def validate_detector(detector, attack, model, validationloader):\n",
    "    \"\"\"Validate KDE-based detector.\n",
    "\n",
    "    Computes accuracy of detector on joint dataset of natural and \n",
    "    adversarial samples.\n",
    "\n",
    "    Parameters\n",
    "    ----------\n",
    "    detector : DetectorKDE\n",
    "        detector of adversarial samples\n",
    "\n",
    "    attack : CarliniWagnerAttack\n",
    "        callable creating adversarial sample\n",
    "    \n",
    "    model : torch.Module\n",
    "        model to attack\n",
    "    \n",
    "    validationloader : torch.data.utils.Dataloader\n",
    "        iterable with validation data\n",
    "    \"\"\"\n",
    "    hits = 0\n",
    "    device = configs[\"device\"]\n",
    "    for images, labels in validationloader:\n",
    "        images, labels = images.to(device) / 255., labels.to(device)\n",
    "        n_samples = images.shape[0]\n",
    "        label = random.choice(list(classes.keys()))\n",
    "        targets = torch.full(labels.shape, label)\n",
    "        adversarial = attack(model, images, labels, targets)\n",
    "        hits += n_samples - detector(images).sum().item() + detector(adversarial).sum().item()\n",
    "    print(f\"Accuracy of detector: {0.5 * hits / len(validationloader.dataset) * 100:.2f}%\")"
   ]
  },
  {
   "cell_type": "code",
   "execution_count": 30,
   "metadata": {},
   "outputs": [
    {
     "name": "stdout",
     "output_type": "stream",
     "text": [
      "Tau: 0.3270\n"
     ]
    }
   ],
   "source": [
    "tau = estimate_tau(kde, testloader)\n",
    "print(f\"Tau: {tau:.4f}\")"
   ]
  },
  {
   "cell_type": "code",
   "execution_count": 31,
   "metadata": {},
   "outputs": [],
   "source": [
    "detector = DetectorKDE(kde, tau)"
   ]
  },
  {
   "cell_type": "markdown",
   "metadata": {},
   "source": [
    "#### 4.3 Zero-Knowledge Attack Evaluation"
   ]
  },
  {
   "cell_type": "code",
   "execution_count": 32,
   "metadata": {},
   "outputs": [],
   "source": [
    "def evaluate_kde(kde, attack, model, validationloader):\n",
    "    \"\"\"Consider KDE behaviour for natural and adversarial samples.\n",
    "\n",
    "    Parameters\n",
    "    ----------\n",
    "    kde : KernelDensityEstimator\n",
    "        kernel density estimator\n",
    "\n",
    "    attack : CarliniWagnerAttack\n",
    "        callable creating adversarial sample\n",
    "    \n",
    "    model : torch.Module\n",
    "        model to attack\n",
    "    \n",
    "    validationloader : torch.data.utils.Dataloader\n",
    "        iterable with validation data\n",
    "    \"\"\"\n",
    "    naturals, adversarials = list(), list()\n",
    "    device = configs[\"device\"]\n",
    "    for images, labels in validationloader:\n",
    "        images, labels = images.to(device) / 255., labels.to(device)\n",
    "        label = random.choice(list(classes.keys()))\n",
    "        targets = torch.full(labels.shape, label)\n",
    "        adversarial = attack(model, images, labels, targets)\n",
    "        naturals.append(kde(images).detach())\n",
    "        adversarials.append(kde(adversarial).detach())\n",
    "    naturals  = torch.cat(naturals, dim=0).cpu().numpy()\n",
    "    adversarials = torch.cat(adversarials, dim=0).cpu().numpy()\n",
    "    difference = adversarials - naturals\n",
    "    false_positives = (difference > 0).sum()\n",
    "\n",
    "    print(\"Difference = Adversarial — Original\")\n",
    "    print(f\"Mean ± STD: {difference.mean():.4f} ± {difference.std():.4f}\")\n",
    "    print(f\"Skewness: {skew(difference):.4f}\")\n",
    "    print(f\"Pair-wise false positives: {false_positives / len(validationloader.dataset) * 100:.2f}%\")\n",
    "\n",
    "    fig, ax = plt.subplots(1, 1)\n",
    "    fig.set_size_inches(12, 8)\n",
    "    ax.set_title(\"Difference\")\n",
    "    ax.grid()\n",
    "    ax.axvline(color='k', linestyle='--')\n",
    "    ax.hist(difference, bins=100, color='r')\n",
    "    plt.show()"
   ]
  },
  {
   "cell_type": "code",
   "execution_count": 33,
   "metadata": {},
   "outputs": [],
   "source": [
    "attack = CarliniWagnerAttack()"
   ]
  },
  {
   "cell_type": "code",
   "execution_count": 34,
   "metadata": {},
   "outputs": [
    {
     "name": "stdout",
     "output_type": "stream",
     "text": [
      "Accuracy of detector: 63.83%\n"
     ]
    }
   ],
   "source": [
    "validate_detector(detector, attack, baseline, validationloader)"
   ]
  },
  {
   "cell_type": "markdown",
   "metadata": {},
   "source": [
    "You might wonder, why even after selection of $\\tau$ the performance is poor (~60%)? The answer is that the defense does not work in general case. As we saw earlier distributions of KDEs intersect noticeably. This complicates the process of detecting adversarial examples. Carlini and Wagner claim that for simpler datasets such as MNIST, Feinman's defense is able to detect C&W adversarial examples, but for CIFAR it fails.\n",
    "\n",
    "You also might ask, why did I chose this defense then? If authors argue that it does not work on CIFAR, then usage of this defense is pointless. My reply is as follows (a) this defense is the most interesting in terms of implementation for me and (b) although authors of paper are smart guys I would refer to [The Problem of Expertise](https://link.springer.com/article/10.1007/s11024-016-9308-7) and try to replicate their findings."
   ]
  },
  {
   "cell_type": "markdown",
   "metadata": {},
   "source": [
    "Now, let's follow methodology proposed in paper and check how KDE behave on the test set. For each image in the test set $x$ and closest adversarial example $x'$, compare $\\text{KDE}(x)'$ and $\\text{KDE}(x')$."
   ]
  },
  {
   "cell_type": "code",
   "execution_count": 35,
   "metadata": {},
   "outputs": [
    {
     "name": "stdout",
     "output_type": "stream",
     "text": [
      "Difference = Adversarial — Original\n",
      "Mean ± STD: -0.0488 ± 0.1004\n",
      "Skewness: 0.0635\n",
      "Pair-wise false positives: 31.46%\n"
     ]
    },
    {
     "data": {
      "image/png": "[encoded data removed]",
      "text/plain": [
       "<Figure size 864x576 with 1 Axes>"
      ]
     },
     "metadata": {
      "needs_background": "light"
     },
     "output_type": "display_data"
    }
   ],
   "source": [
    "attack = CarliniWagnerAttack()\n",
    "evaluate_kde(kde, attack, baseline, validationloader)"
   ]
  },
  {
   "cell_type": "markdown",
   "metadata": {},
   "source": [
    "Although authors declare that 80% of the time the adversarial example has a higher likelyhood score that original image, I've encountered this behaviour only in $31.46$% of cases. Perhaps, this caused by difference in model architecture, KDE parameters, and stochasticity of the process."
   ]
  },
  {
   "cell_type": "markdown",
   "metadata": {},
   "source": [
    "#### 4.4 Perfect-Knowledge Attack Evaluation"
   ]
  },
  {
   "cell_type": "markdown",
   "metadata": {},
   "source": [
    "Now assume that we know everything about the defence and try to perform white-box attack. Carlini & Wagner propose a new minimization formulation with a novel loss term $l_2(x')$ that penalizes being detected by detector.\n",
    "$$\\text{minimize} ||x - x'||^2_2 + c \\cdot (l(x')+l_2(x'))$$\n",
    "$$l_2(x') = \\text{max}(-\\text{log}(\\text{KDE}(x'))-\\epsilon, 0)$$\n",
    "where $\\epsilon$ controls the likelyhood measure of the adversarial samples. Following suggestions in manuscript I set $\\epsilon$ to the median of $- \\log(\\text{KDE}(\\cdot))$ on the training set, so that $l_2(x') \\leq 0$ if and only if $\\text{KDE}(x')$ is greater than half of the training instances KDE. Recall that class `KernelDensityEstimator` has method `get_epsilon`. "
   ]
  },
  {
   "cell_type": "markdown",
   "metadata": {},
   "source": [
    "Whereas authors perform two-step optimization, I think it is unjustified. The main argument of Carlini & Wagner is that this approach allows to use different constants to generate an adversarial example and to \"fine-tune\" it to not be detected. Instead, I introduce a new constant $c_2$ that is used to regulate directly KDE loss term. Intuitively, it ensures more stable adversarial attacking.\n",
    "$$\\text{minimize} ||x - x'||^2_2 + c \\cdot l(x')+ c_2 \\cdot l_2(x')$$"
   ]
  },
  {
   "cell_type": "code",
   "execution_count": 36,
   "metadata": {},
   "outputs": [],
   "source": [
    "class CarliniWagnerAttackKDE(CarliniWagnerAttack):\n",
    "    \"\"\"Implementation of Carlini & Wagner attack with KDE loss.\"\"\"\n",
    "\n",
    "    def __init__(self, kde, c1=10, c2=20, lr=1e-2, iterations=10, device=\"cuda\"):\n",
    "        \"\"\"Constructor of C&W attack with KDE loss.\n",
    "\n",
    "        Parameters\n",
    "        ----------\n",
    "        kde : KernelDensityEstimator\n",
    "            kernel density estimator\n",
    "\n",
    "        c1 : int\n",
    "            coefficient on which loss function f6 is multiplied\n",
    "        \n",
    "        c2 : int\n",
    "            coefficient on which kde loss function is multiplied\n",
    "        \n",
    "        lr : float\n",
    "            learning rate of an attack\n",
    "        \n",
    "        iterations : int\n",
    "            number of iterations of an attack\n",
    "        \n",
    "        device : str\n",
    "            device to use for computations\n",
    "        \"\"\"\n",
    "        super().__init__(c=c1, lr=lr, iterations=iterations, device=device)\n",
    "        self.c2 = c2\n",
    "        self.kde = kde\n",
    "        self.eps = kde.get_epsilon()\n",
    "    \n",
    "    def _attack(self, model, x, y, target):\n",
    "        \"\"\"Implementation of attacking.\n",
    "\n",
    "        Adversarial sample is the result of optimization with an objective \n",
    "        function comprised of L2-norm, rectifier function f6 and KDE loss as \n",
    "        suggested in original paper. Note that resultant adversarial sample is \n",
    "        in the range of [0..1].\n",
    "\n",
    "        Parameters\n",
    "        ----------\n",
    "        model : torch.Module\n",
    "\n",
    "        x : torch.Tensor\n",
    "            images of an input batch\n",
    "\n",
    "        y : torch.Tensor\n",
    "            class labels of an input batch\n",
    "\n",
    "        target : torch.Tensor\n",
    "            target class labels for the attack\n",
    "        \n",
    "        Returns\n",
    "        -------\n",
    "        adversarial_sample : torch.Tensor\n",
    "            resultant adversarial sample\n",
    "        \"\"\"\n",
    "        w = torch.atanh(2 * x - 1).to(self.device)\n",
    "        w.requires_grad = True\n",
    "        optimizer = optim.SGD([w], lr=self.lr)\n",
    "        for _ in range(self.iterations):\n",
    "            optimizer.zero_grad()\n",
    "            adversarial_sample = 0.5 * (torch.tanh(w) + 1)\n",
    "            l2_norm = nn.MSELoss()(adversarial_sample, x)     \n",
    "            kde_loss = self._kde_loss(adversarial_sample).sum()\n",
    "            f6 = self._f6(model, adversarial_sample, y, target).sum()\n",
    "            objective = self.c * f6 + self.c2 * kde_loss\n",
    "            loss = l2_norm + objective\n",
    "            loss.backward()\n",
    "            optimizer.step()\n",
    "        return adversarial_sample.detach()\n",
    "    \n",
    "    def _kde_loss(self, x):\n",
    "        \"\"\"KDE loss implementation.\"\"\"\n",
    "        kde_log = -torch.log(self.kde(x)) - self.eps\n",
    "        kde_loss = nn.ReLU()(kde_log)\n",
    "        return kde_loss"
   ]
  },
  {
   "cell_type": "code",
   "execution_count": 37,
   "metadata": {},
   "outputs": [
    {
     "name": "stdout",
     "output_type": "stream",
     "text": [
      "Difference = Adversarial — Original\n",
      "Mean ± STD: 0.0531 ± 0.0892\n",
      "Skewness: 0.2388\n",
      "Pair-wise false positives: 70.34%\n"
     ]
    },
    {
     "data": {
      "image/png": "[encoded data removed]",
      "text/plain": [
       "<Figure size 864x576 with 1 Axes>"
      ]
     },
     "metadata": {
      "needs_background": "light"
     },
     "output_type": "display_data"
    }
   ],
   "source": [
    "attack = CarliniWagnerAttackKDE(kde)\n",
    "evaluate_kde(kde, attack, baseline, validationloader)"
   ]
  },
  {
   "cell_type": "markdown",
   "metadata": {},
   "source": [
    "Wow! I just managed to increase a number of samples $x$ for which KDE of closest adversarial example $x'$ has a higher likelyhood score from $31.46$% to $70.34$%. Also, notice how distribution has changed: its mean gets to the right, skewness increased, number of samples with nearly zero difference decreased. Thus, the modified attack works as intended."
   ]
  },
  {
   "cell_type": "code",
   "execution_count": 38,
   "metadata": {},
   "outputs": [],
   "source": [
    "gc.collect()\n",
    "torch.cuda.empty_cache()"
   ]
  },
  {
   "cell_type": "markdown",
   "metadata": {},
   "source": [
    "#### 4.5 Limited-Knowledge Attack Evaluation"
   ]
  },
  {
   "cell_type": "markdown",
   "metadata": {},
   "source": [
    "Further Carlini & Wagner consider the case when the defender uses the first 95% of the training data, and the last 5% of the training data is left for the adversary (who uses it to form their own KDE estimator). Let's try to replicate this scenario."
   ]
  },
  {
   "cell_type": "code",
   "execution_count": 39,
   "metadata": {},
   "outputs": [],
   "source": [
    "defender_size = int(0.95 * len(trainset))\n",
    "adversary_size = len(trainset) - defender_size\n",
    "defender_set, adversary_set = torch.utils.data.random_split(trainset, [defender_size, adversary_size], generator=torch.Generator().manual_seed(42))\n",
    "defenderloader = DataLoader(defender_set, batch_size=configs['batch_size'], shuffle=True, num_workers=configs['num_workers'])\n",
    "adversaryloader = DataLoader(adversary_set, batch_size=configs['batch_size'], shuffle=True, num_workers=configs['num_workers'])"
   ]
  },
  {
   "cell_type": "code",
   "execution_count": 40,
   "metadata": {},
   "outputs": [
    {
     "name": "stdout",
     "output_type": "stream",
     "text": [
      "Defender dataset: 47500 that is 95.0% of trainset\n",
      "Adversary dataset: 2500 that is 5.0% of trainset\n"
     ]
    }
   ],
   "source": [
    "print(f\"Defender dataset: {len(defenderloader.dataset)} that is {len(defenderloader.dataset) / len(trainset) * 100}% of trainset\")\n",
    "print(f\"Adversary dataset: {len(adversaryloader.dataset)} that is {len(adversaryloader.dataset) / len(trainset) * 100}% of trainset\")"
   ]
  },
  {
   "cell_type": "code",
   "execution_count": 41,
   "metadata": {},
   "outputs": [],
   "source": [
    "kde = KernelDensityEstimator(baseline)\n",
    "kde.fit(defender_set, list(classes.keys()), frac=0.02)\n",
    "actual_defence = DetectorKDE(kde, tau)"
   ]
  },
  {
   "cell_type": "code",
   "execution_count": 42,
   "metadata": {},
   "outputs": [],
   "source": [
    "kde_adversary = KernelDensityEstimator(baseline)\n",
    "kde_adversary.fit(adversary_set, list(classes.keys()), frac=0.02)\n",
    "adversary_defence = DetectorKDE(kde_adversary, tau)"
   ]
  },
  {
   "cell_type": "code",
   "execution_count": 43,
   "metadata": {},
   "outputs": [],
   "source": [
    "attack_baseline = CarliniWagnerAttack()\n",
    "attack_kde = CarliniWagnerAttackKDE(kde_adversary)"
   ]
  },
  {
   "cell_type": "markdown",
   "metadata": {},
   "source": [
    "##### 4.5.1 Benchmark attack"
   ]
  },
  {
   "cell_type": "code",
   "execution_count": 44,
   "metadata": {},
   "outputs": [
    {
     "name": "stdout",
     "output_type": "stream",
     "text": [
      "Accuracy of detector: 61.55%\n"
     ]
    }
   ],
   "source": [
    "validate_detector(actual_defence, attack_baseline, baseline, validationloader)"
   ]
  },
  {
   "cell_type": "code",
   "execution_count": 45,
   "metadata": {},
   "outputs": [
    {
     "name": "stdout",
     "output_type": "stream",
     "text": [
      "Difference = Adversarial — Original\n",
      "Mean ± STD: -0.0451 ± 0.1003\n",
      "Skewness: 0.0717\n",
      "Pair-wise false positives: 32.62%\n"
     ]
    },
    {
     "data": {
      "image/png": "[encoded data removed]",
      "text/plain": [
       "<Figure size 864x576 with 1 Axes>"
      ]
     },
     "metadata": {
      "needs_background": "light"
     },
     "output_type": "display_data"
    }
   ],
   "source": [
    "evaluate_kde(kde, attack_baseline, baseline, validationloader)"
   ]
  },
  {
   "cell_type": "markdown",
   "metadata": {},
   "source": [
    "##### 4.5.2 Attack using 5% of training data"
   ]
  },
  {
   "cell_type": "code",
   "execution_count": 46,
   "metadata": {},
   "outputs": [
    {
     "name": "stdout",
     "output_type": "stream",
     "text": [
      "Accuracy of detector: 29.20%\n"
     ]
    }
   ],
   "source": [
    "validate_detector(actual_defence, attack_kde, baseline, validationloader)"
   ]
  },
  {
   "cell_type": "code",
   "execution_count": 47,
   "metadata": {},
   "outputs": [
    {
     "name": "stdout",
     "output_type": "stream",
     "text": [
      "Difference = Adversarial — Original\n",
      "Mean ± STD: 0.0546 ± 0.0953\n",
      "Skewness: 0.1259\n",
      "Pair-wise false positives: 70.46%\n"
     ]
    },
    {
     "data": {
      "image/png": "[encoded data removed]",
      "text/plain": [
       "<Figure size 864x576 with 1 Axes>"
      ]
     },
     "metadata": {
      "needs_background": "light"
     },
     "output_type": "display_data"
    }
   ],
   "source": [
    "evaluate_kde(kde_adversary, attack_kde, baseline, validationloader)"
   ]
  },
  {
   "cell_type": "markdown",
   "metadata": {},
   "source": [
    "We observe the same phenomena as with the perfect-knowledge attack: accuracy of detector has droped from $61.55$% to $29.20$%, number of cases when KDE for adversary is greater than for natural is increased from $32.62$% to $70.46$%, and the mean of difference moved to the right. However, now there was used $<5$% of training data to construct an attack. This once again convinces us of the weakness of the Kernel Density Estimation defense and the strength of the C&W attack."
   ]
  },
  {
   "cell_type": "markdown",
   "metadata": {},
   "source": [
    "### Discussion"
   ]
  },
  {
   "cell_type": "markdown",
   "metadata": {},
   "source": [
    "This notebook concludes our experiments on the topic of adversarial attacking and defending. As a part of this work there was implemented statistical defense called Kernel Density Estimation. It was tested against C&W attack and C&W attack with KDE loss, which decreased the peformance of Kernel Density Estimation detector. The obtained results match the results proposed by Carlini and Wagner in [\"Adversarial Examples Are Not Easily Detected: Bypassing Ten Detection Methods\"](https://arxiv.org/abs/1705.07263). "
   ]
  }
 ],
 "metadata": {
  "interpreter": {
   "hash": "703acd46c16bd94cd5beac13ad6ec045c1e20ddb4c1ab0d31094b5ca090ec4cf"
  },
  "kernelspec": {
   "display_name": "Python 3.9.12 ('research')",
   "language": "python",
   "name": "python3"
  },
  "language_info": {
   "codemirror_mode": {
    "name": "ipython",
    "version": 3
   },
   "file_extension": ".py",
   "mimetype": "text/x-python",
   "name": "python",
   "nbconvert_exporter": "python",
   "pygments_lexer": "ipython3",
   "version": "3.9.12"
  },
  "orig_nbformat": 4
 },
 "nbformat": 4,
 "nbformat_minor": 2
}
